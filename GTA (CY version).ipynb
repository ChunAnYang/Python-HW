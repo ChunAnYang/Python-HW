{
 "cells": [
  {
   "cell_type": "code",
   "execution_count": 11,
   "metadata": {},
   "outputs": [],
   "source": [
    "import random"
   ]
  },
  {
   "cell_type": "code",
   "execution_count": 14,
   "metadata": {},
   "outputs": [
    {
     "name": "stdout",
     "output_type": "stream",
     "text": [
      "WOULD YOU LIKE TO START ? 0. YES 1. NO1\n",
      "Game Over\n"
     ]
    }
   ],
   "source": [
    "command = int(input(\"WOULD YOU LIKE TO START ? 0. YES 1. NO\"))\n",
    "c_choice = random.randint(0, 2)\n",
    "if command == 0:\n",
    "    choice = int(input(\"which characters would you like to choose ? 0.Michael 1.Franklin 2.Trevor\"))\n",
    "    if choice == 0:\n",
    "        print(\"You choose Michael\")\n",
    "        if c_choice == 0:\n",
    "            print(\"Your rival is Michael, tie.\")\n",
    "        elif c_choice == 1:\n",
    "            print(\"Your rival is Franklin, lose.\")\n",
    "        elif c_choice == 2:\n",
    "            print(\"Your rival is Trevor, win.\")    \n",
    "    elif choice == 1:\n",
    "        print(\"You choose Franklin\")\n",
    "        if c_choice == 0:\n",
    "            print(\"Your rival is Michael, win.\")\n",
    "        elif c_choice == 1:\n",
    "            print(\"Your rival is Franklin, tie.\")\n",
    "        elif c_choice == 2:\n",
    "            print(\"Your rival is Trevor, lose.\")        \n",
    "    elif choice == 2:\n",
    "        print(\"You choose Trevor\")\n",
    "        if c_choice == 0:\n",
    "            print(\"Your rival is Michael, lose.\")\n",
    "        elif c_choice == 1:\n",
    "            print(\"Your rival is Franklin, win.\")\n",
    "        elif c_choice == 2:\n",
    "            print(\"Your rival is Trevor, tie.\")\n",
    "elif command == 1:\n",
    "    print(\"Game Over\")\n",
    "        "
   ]
  },
  {
   "cell_type": "code",
   "execution_count": null,
   "metadata": {},
   "outputs": [],
   "source": []
  }
 ],
 "metadata": {
  "kernelspec": {
   "display_name": "Python 3",
   "language": "python",
   "name": "python3"
  },
  "language_info": {
   "codemirror_mode": {
    "name": "ipython",
    "version": 3
   },
   "file_extension": ".py",
   "mimetype": "text/x-python",
   "name": "python",
   "nbconvert_exporter": "python",
   "pygments_lexer": "ipython3",
   "version": "3.7.4"
  }
 },
 "nbformat": 4,
 "nbformat_minor": 2
}
